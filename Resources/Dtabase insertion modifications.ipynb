{
 "cells": [
  {
   "cell_type": "code",
   "execution_count": 3,
   "metadata": {},
   "outputs": [
    {
     "data": {
      "text/html": [
       "<div>\n",
       "<style scoped>\n",
       "    .dataframe tbody tr th:only-of-type {\n",
       "        vertical-align: middle;\n",
       "    }\n",
       "\n",
       "    .dataframe tbody tr th {\n",
       "        vertical-align: top;\n",
       "    }\n",
       "\n",
       "    .dataframe thead th {\n",
       "        text-align: right;\n",
       "    }\n",
       "</style>\n",
       "<table border=\"1\" class=\"dataframe\">\n",
       "  <thead>\n",
       "    <tr style=\"text-align: right;\">\n",
       "      <th></th>\n",
       "      <th>ID</th>\n",
       "      <th>Name</th>\n",
       "      <th>GeoShape</th>\n",
       "      <th>Alcaldia</th>\n",
       "    </tr>\n",
       "  </thead>\n",
       "  <tbody>\n",
       "    <tr>\n",
       "      <th>0</th>\n",
       "      <td>0</td>\n",
       "      <td>LOMAS DE CHAPULTEPEC</td>\n",
       "      <td>{\"type\": \"Polygon\", \"coordinates\": [[[-99.2201...</td>\n",
       "      <td>MIGUEL HIDALGO</td>\n",
       "    </tr>\n",
       "    <tr>\n",
       "      <th>1</th>\n",
       "      <td>1</td>\n",
       "      <td>LOMAS DE REFORMA (LOMAS DE CHAPULTEPEC)</td>\n",
       "      <td>{\"type\": \"Polygon\", \"coordinates\": [[[-99.2296...</td>\n",
       "      <td>MIGUEL HIDALGO</td>\n",
       "    </tr>\n",
       "    <tr>\n",
       "      <th>2</th>\n",
       "      <td>2</td>\n",
       "      <td>DEL BOSQUE (POLANCO)</td>\n",
       "      <td>{\"type\": \"Polygon\", \"coordinates\": [[[-99.2082...</td>\n",
       "      <td>MIGUEL HIDALGO</td>\n",
       "    </tr>\n",
       "    <tr>\n",
       "      <th>3</th>\n",
       "      <td>3</td>\n",
       "      <td>PEDREGAL DE SANTA URSULA I</td>\n",
       "      <td>{\"type\": \"Polygon\", \"coordinates\": [[[-99.1458...</td>\n",
       "      <td>COYOACAN</td>\n",
       "    </tr>\n",
       "    <tr>\n",
       "      <th>4</th>\n",
       "      <td>4</td>\n",
       "      <td>AJUSCO I</td>\n",
       "      <td>{\"type\": \"Polygon\", \"coordinates\": [[[-99.1585...</td>\n",
       "      <td>COYOACAN</td>\n",
       "    </tr>\n",
       "  </tbody>\n",
       "</table>\n",
       "</div>"
      ],
      "text/plain": [
       "  ID                                     Name  \\\n",
       "0  0                     LOMAS DE CHAPULTEPEC   \n",
       "1  1  LOMAS DE REFORMA (LOMAS DE CHAPULTEPEC)   \n",
       "2  2                     DEL BOSQUE (POLANCO)   \n",
       "3  3               PEDREGAL DE SANTA URSULA I   \n",
       "4  4                                 AJUSCO I   \n",
       "\n",
       "                                            GeoShape        Alcaldia  \n",
       "0  {\"type\": \"Polygon\", \"coordinates\": [[[-99.2201...  MIGUEL HIDALGO  \n",
       "1  {\"type\": \"Polygon\", \"coordinates\": [[[-99.2296...  MIGUEL HIDALGO  \n",
       "2  {\"type\": \"Polygon\", \"coordinates\": [[[-99.2082...  MIGUEL HIDALGO  \n",
       "3  {\"type\": \"Polygon\", \"coordinates\": [[[-99.1458...        COYOACAN  \n",
       "4  {\"type\": \"Polygon\", \"coordinates\": [[[-99.1585...        COYOACAN  "
      ]
     },
     "execution_count": 3,
     "metadata": {},
     "output_type": "execute_result"
    }
   ],
   "source": [
    "# Dependencies and Setup\n",
    "import pandas as pd\n",
    "import numpy as np\n",
    "# File to Load (Remember to Change These)\n",
    "file_to_load = \"Colonias.csv\"\n",
    "\n",
    "# Read Purchasing File and store into Pandas data frame\n",
    "colonia_data = pd.read_csv(file_to_load)\n",
    "colonia_data.head()"
   ]
  },
  {
   "cell_type": "code",
   "execution_count": 4,
   "metadata": {},
   "outputs": [
    {
     "data": {
      "text/plain": [
       "array(['MIGUEL HIDALGO', 'COYOACAN', 'VENUSTIANO CARRANZA',\n",
       "       'GUSTAVO A. MADERO', 'TLALPAN', 'XOCHIMILCO', 'MILPA ALTA',\n",
       "       'IZTACALCO', 'AZCAPOTZALCO', 'ALVARO OBREGON', 'CUAUHTEMOC',\n",
       "       'TLAHUAC', 'CUAJIMALPA DE MORELOS', 'IZTAPALAPA', 'BENITO JUAREZ',\n",
       "       'LA MAGDALENA CONTRERAS', nan], dtype=object)"
      ]
     },
     "execution_count": 4,
     "metadata": {},
     "output_type": "execute_result"
    }
   ],
   "source": [
    "colonia_data.Alcaldia.unique()"
   ]
  },
  {
   "cell_type": "code",
   "execution_count": 5,
   "metadata": {},
   "outputs": [
    {
     "data": {
      "text/html": [
       "<div>\n",
       "<style scoped>\n",
       "    .dataframe tbody tr th:only-of-type {\n",
       "        vertical-align: middle;\n",
       "    }\n",
       "\n",
       "    .dataframe tbody tr th {\n",
       "        vertical-align: top;\n",
       "    }\n",
       "\n",
       "    .dataframe thead th {\n",
       "        text-align: right;\n",
       "    }\n",
       "</style>\n",
       "<table border=\"1\" class=\"dataframe\">\n",
       "  <thead>\n",
       "    <tr style=\"text-align: right;\">\n",
       "      <th></th>\n",
       "      <th>ID</th>\n",
       "      <th>Name</th>\n",
       "      <th>Lat</th>\n",
       "      <th>Lon</th>\n",
       "      <th>districtName</th>\n",
       "    </tr>\n",
       "  </thead>\n",
       "  <tbody>\n",
       "    <tr>\n",
       "      <th>0</th>\n",
       "      <td>124</td>\n",
       "      <td>124 CLAUDIO BERNARD-DR. LICEAGA</td>\n",
       "      <td>19.422392</td>\n",
       "      <td>-99.150358</td>\n",
       "      <td>Ampliacion Granada</td>\n",
       "    </tr>\n",
       "    <tr>\n",
       "      <th>1</th>\n",
       "      <td>159</td>\n",
       "      <td>159 HUATABAMPO-EJE 1 PTE. AV. CUAUHTÉMOC</td>\n",
       "      <td>19.407517</td>\n",
       "      <td>-99.155373</td>\n",
       "      <td>Ampliacion Granada</td>\n",
       "    </tr>\n",
       "    <tr>\n",
       "      <th>2</th>\n",
       "      <td>241</td>\n",
       "      <td>E241 EJERCITO NAL-JUAN VAZQUEZ DE LA MELLA</td>\n",
       "      <td>19.438620</td>\n",
       "      <td>-99.207580</td>\n",
       "      <td>Ampliacion Granada</td>\n",
       "    </tr>\n",
       "    <tr>\n",
       "      <th>3</th>\n",
       "      <td>243</td>\n",
       "      <td>243 MIGUEL DE CERVANTES SAAVEDRA-LAGO FILT</td>\n",
       "      <td>19.440839</td>\n",
       "      <td>-99.196712</td>\n",
       "      <td>Ampliacion Granada</td>\n",
       "    </tr>\n",
       "    <tr>\n",
       "      <th>4</th>\n",
       "      <td>350</td>\n",
       "      <td>350 JOSE CLEMENTE OROZCO-CORREGGIO</td>\n",
       "      <td>19.384062</td>\n",
       "      <td>-99.181482</td>\n",
       "      <td>Ampliacion Granada</td>\n",
       "    </tr>\n",
       "  </tbody>\n",
       "</table>\n",
       "</div>"
      ],
      "text/plain": [
       "    ID                                         Name        Lat        Lon  \\\n",
       "0  124              124 CLAUDIO BERNARD-DR. LICEAGA  19.422392 -99.150358   \n",
       "1  159     159 HUATABAMPO-EJE 1 PTE. AV. CUAUHTÉMOC  19.407517 -99.155373   \n",
       "2  241  E241 EJERCITO NAL-JUAN VAZQUEZ DE LA MELLA   19.438620 -99.207580   \n",
       "3  243  243 MIGUEL DE CERVANTES SAAVEDRA-LAGO FILT   19.440839 -99.196712   \n",
       "4  350           350 JOSE CLEMENTE OROZCO-CORREGGIO  19.384062 -99.181482   \n",
       "\n",
       "         districtName  \n",
       "0  Ampliacion Granada  \n",
       "1  Ampliacion Granada  \n",
       "2  Ampliacion Granada  \n",
       "3  Ampliacion Granada  \n",
       "4  Ampliacion Granada  "
      ]
     },
     "execution_count": 5,
     "metadata": {},
     "output_type": "execute_result"
    }
   ],
   "source": [
    "# File to Load (Remember to Change These)\n",
    "file_to_load = \"Estaciones.csv\"\n",
    "\n",
    "# Read Purchasing File and store into Pandas data frame\n",
    "estaciones_data = pd.read_csv(file_to_load)\n",
    "estaciones_data.head()"
   ]
  },
  {
   "cell_type": "code",
   "execution_count": 6,
   "metadata": {},
   "outputs": [
    {
     "data": {
      "text/plain": [
       "array(['Ampliacion Granada', 'Anzures', 'Acacias', 'Actipan',\n",
       "       'Anahuac Mariano Escobedo', 'Ampliacion Napoles',\n",
       "       'Anahuac Dos Lagos', 'Anahuac I', 'Buenavista',\n",
       "       'Ciudad de los Deportes', 'Centro', 'Bosque de Chapultepec',\n",
       "       'Condesa', 'Cuauhtemoc', 'Cuauhtemoc Pensil', 'Doctores',\n",
       "       'Del Valle Centro', 'Del Valle Norte', 'Del Valle Sur', 'Escandon',\n",
       "       'Extremadura Insurgentes', 'General Pedro Maria Anaya', 'Granada',\n",
       "       'Hipodromo Condesa', 'Hipodromo', 'Insurgentes Mixcoac',\n",
       "       'Irrigacion', 'Insurgentes San Borja', 'Juarez',\n",
       "       'Lomas de Chapultepec Seccion V',\n",
       "       'Lomas de Chapultepec Seccion III', 'Letran Valle',\n",
       "       'Molino del Rey', 'Napoles', 'Narvarte Poniente', 'Noche Buena',\n",
       "       'Piedad Narvarte', 'Polanco', 'Residencial Emperadores',\n",
       "       'Roma Norte', 'Roma Sur', 'Santa Cruz Atoyac',\n",
       "       'San Miguel Chapultepec ', 'Santa María Nonoalco',\n",
       "       'San Pedro de los Pinos', 'San Rafael', 'Tabacalera',\n",
       "       'Tlacoquemecatl', 'Xoco'], dtype=object)"
      ]
     },
     "execution_count": 6,
     "metadata": {},
     "output_type": "execute_result"
    }
   ],
   "source": [
    "estaciones_data.districtName.unique()"
   ]
  }
 ],
 "metadata": {
  "kernelspec": {
   "display_name": "Python [conda env:PythonData]",
   "language": "python",
   "name": "conda-env-PythonData-py"
  },
  "language_info": {
   "codemirror_mode": {
    "name": "ipython",
    "version": 3
   },
   "file_extension": ".py",
   "mimetype": "text/x-python",
   "name": "python",
   "nbconvert_exporter": "python",
   "pygments_lexer": "ipython3",
   "version": "3.6.10"
  }
 },
 "nbformat": 4,
 "nbformat_minor": 4
}
