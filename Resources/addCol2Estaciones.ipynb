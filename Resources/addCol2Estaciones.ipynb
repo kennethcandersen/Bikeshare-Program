{
    "cells": [
        {
            "cell_type": "code",
            "execution_count": 1,
            "source": [
                "print(\"Hello\")"
            ],
            "outputs": [
                {
                    "output_type": "stream",
                    "name": "stdout",
                    "text": [
                        "Hello\n"
                    ]
                }
            ],
            "metadata": {}
        }
    ],
    "metadata": {
        "orig_nbformat": 4,
        "language_info": {
            "name": "python"
        }
    },
    "nbformat": 4,
    "nbformat_minor": 2
}